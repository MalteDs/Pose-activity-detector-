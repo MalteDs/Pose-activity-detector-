{
 "cells": [
  {
   "cell_type": "code",
   "execution_count": 1,
   "id": "2af23a21",
   "metadata": {},
   "outputs": [
    {
     "name": "stdout",
     "output_type": "stream",
     "text": [
      "Dataset limpio cargado: (13361, 136)\n"
     ]
    }
   ],
   "source": [
    "import pandas as pd\n",
    "import numpy as np\n",
    "import matplotlib.pyplot as plt\n",
    "import os\n",
    "\n",
    "# Cargar dataset limpio\n",
    "df = pd.read_csv(\"./data/dataset_ready/movimientos_limpio.csv\")\n",
    "print(\"Dataset limpio cargado:\", df.shape)\n"
   ]
  },
  {
   "cell_type": "code",
   "execution_count": 2,
   "id": "3e971ee7",
   "metadata": {},
   "outputs": [],
   "source": [
    "def calc_angle(a, b, c):\n",
    "    \"\"\"\n",
    "    Calcula el ángulo entre tres puntos: a (proximal), b (vértice), c (distal)\n",
    "    Devuelve el ángulo en grados.\n",
    "    \"\"\"\n",
    "    a = np.array(a)\n",
    "    b = np.array(b)\n",
    "    c = np.array(c)\n",
    "\n",
    "    ba = a - b\n",
    "    bc = c - b\n",
    "\n",
    "    cosine_angle = np.dot(ba, bc) / (np.linalg.norm(ba) * np.linalg.norm(bc) + 1e-6)\n",
    "    angle = np.arccos(np.clip(cosine_angle, -1.0, 1.0))\n",
    "    return np.degrees(angle)\n"
   ]
  },
  {
   "cell_type": "code",
   "execution_count": 3,
   "id": "7b95b140",
   "metadata": {},
   "outputs": [],
   "source": [
    "def extract_features_from_row(row):\n",
    "    features = {}\n",
    "\n",
    "    # Puntos clave\n",
    "    hip_left = [row['x23'], row['y23']]\n",
    "    knee_left = [row['x25'], row['y25']]\n",
    "    ankle_left = [row['x27'], row['y27']]\n",
    "\n",
    "    hip_right = [row['x24'], row['y24']]\n",
    "    knee_right = [row['x26'], row['y26']]\n",
    "    ankle_right = [row['x28'], row['y28']]\n",
    "\n",
    "    shoulder_left = [row['x11'], row['y11']]\n",
    "    shoulder_right = [row['x12'], row['y12']]\n",
    "\n",
    "    # Ángulos\n",
    "    features['angle_knee_left'] = calc_angle(hip_left, knee_left, ankle_left)\n",
    "    features['angle_knee_right'] = calc_angle(hip_right, knee_right, ankle_right)\n",
    "    features['angle_hip_left'] = calc_angle(shoulder_left, hip_left, knee_left)\n",
    "    features['angle_hip_right'] = calc_angle(shoulder_right, hip_right, knee_right)\n",
    "\n",
    "    # Inclinación del tronco (hombros vs caderas)\n",
    "    trunk_vector = np.array(shoulder_right) + np.array(shoulder_left) - np.array(hip_right) - np.array(hip_left)\n",
    "    features['trunk_inclination'] = np.arctan2(trunk_vector[1], trunk_vector[0]) * 180 / np.pi\n",
    "\n",
    "    # Distancias\n",
    "    features['shoulder_dist'] = np.linalg.norm(np.array(shoulder_left) - np.array(shoulder_right))\n",
    "    features['hip_dist'] = np.linalg.norm(np.array(hip_left) - np.array(hip_right))\n",
    "\n",
    "    return features\n"
   ]
  },
  {
   "cell_type": "code",
   "execution_count": 4,
   "id": "604eb8a4",
   "metadata": {},
   "outputs": [
    {
     "name": "stdout",
     "output_type": "stream",
     "text": [
      "✅ Dataset de características generado: (13361, 9)\n"
     ]
    },
    {
     "data": {
      "text/html": [
       "<div>\n",
       "<style scoped>\n",
       "    .dataframe tbody tr th:only-of-type {\n",
       "        vertical-align: middle;\n",
       "    }\n",
       "\n",
       "    .dataframe tbody tr th {\n",
       "        vertical-align: top;\n",
       "    }\n",
       "\n",
       "    .dataframe thead th {\n",
       "        text-align: right;\n",
       "    }\n",
       "</style>\n",
       "<table border=\"1\" class=\"dataframe\">\n",
       "  <thead>\n",
       "    <tr style=\"text-align: right;\">\n",
       "      <th></th>\n",
       "      <th>angle_knee_left</th>\n",
       "      <th>angle_knee_right</th>\n",
       "      <th>angle_hip_left</th>\n",
       "      <th>angle_hip_right</th>\n",
       "      <th>trunk_inclination</th>\n",
       "      <th>shoulder_dist</th>\n",
       "      <th>hip_dist</th>\n",
       "      <th>label</th>\n",
       "      <th>class_name</th>\n",
       "    </tr>\n",
       "  </thead>\n",
       "  <tbody>\n",
       "    <tr>\n",
       "      <th>0</th>\n",
       "      <td>169.545252</td>\n",
       "      <td>165.763517</td>\n",
       "      <td>158.572490</td>\n",
       "      <td>160.627174</td>\n",
       "      <td>-85.881337</td>\n",
       "      <td>0.201857</td>\n",
       "      <td>0.116495</td>\n",
       "      <td>0</td>\n",
       "      <td>caminar_adelante</td>\n",
       "    </tr>\n",
       "    <tr>\n",
       "      <th>1</th>\n",
       "      <td>169.888034</td>\n",
       "      <td>166.247129</td>\n",
       "      <td>159.218057</td>\n",
       "      <td>160.725281</td>\n",
       "      <td>-86.048648</td>\n",
       "      <td>0.202016</td>\n",
       "      <td>0.117348</td>\n",
       "      <td>0</td>\n",
       "      <td>caminar_adelante</td>\n",
       "    </tr>\n",
       "    <tr>\n",
       "      <th>2</th>\n",
       "      <td>170.120438</td>\n",
       "      <td>166.575945</td>\n",
       "      <td>159.700908</td>\n",
       "      <td>160.617155</td>\n",
       "      <td>-86.237146</td>\n",
       "      <td>0.202360</td>\n",
       "      <td>0.117883</td>\n",
       "      <td>0</td>\n",
       "      <td>caminar_adelante</td>\n",
       "    </tr>\n",
       "    <tr>\n",
       "      <th>3</th>\n",
       "      <td>170.104022</td>\n",
       "      <td>166.921633</td>\n",
       "      <td>159.736942</td>\n",
       "      <td>160.517138</td>\n",
       "      <td>-86.344148</td>\n",
       "      <td>0.202853</td>\n",
       "      <td>0.117882</td>\n",
       "      <td>0</td>\n",
       "      <td>caminar_adelante</td>\n",
       "    </tr>\n",
       "    <tr>\n",
       "      <th>4</th>\n",
       "      <td>170.115277</td>\n",
       "      <td>167.128534</td>\n",
       "      <td>159.849440</td>\n",
       "      <td>160.381507</td>\n",
       "      <td>-86.480708</td>\n",
       "      <td>0.202973</td>\n",
       "      <td>0.117787</td>\n",
       "      <td>0</td>\n",
       "      <td>caminar_adelante</td>\n",
       "    </tr>\n",
       "  </tbody>\n",
       "</table>\n",
       "</div>"
      ],
      "text/plain": [
       "   angle_knee_left  angle_knee_right  angle_hip_left  angle_hip_right  \\\n",
       "0       169.545252        165.763517      158.572490       160.627174   \n",
       "1       169.888034        166.247129      159.218057       160.725281   \n",
       "2       170.120438        166.575945      159.700908       160.617155   \n",
       "3       170.104022        166.921633      159.736942       160.517138   \n",
       "4       170.115277        167.128534      159.849440       160.381507   \n",
       "\n",
       "   trunk_inclination  shoulder_dist  hip_dist  label        class_name  \n",
       "0         -85.881337       0.201857  0.116495      0  caminar_adelante  \n",
       "1         -86.048648       0.202016  0.117348      0  caminar_adelante  \n",
       "2         -86.237146       0.202360  0.117883      0  caminar_adelante  \n",
       "3         -86.344148       0.202853  0.117882      0  caminar_adelante  \n",
       "4         -86.480708       0.202973  0.117787      0  caminar_adelante  "
      ]
     },
     "execution_count": 4,
     "metadata": {},
     "output_type": "execute_result"
    }
   ],
   "source": [
    "# Aplicar a cada fila del dataset\n",
    "feature_rows = []\n",
    "for idx, row in df.iterrows():\n",
    "    feats = extract_features_from_row(row)\n",
    "    feats['label'] = row['label']\n",
    "    feats['class_name'] = row['class_name']\n",
    "    feature_rows.append(feats)\n",
    "\n",
    "df_features = pd.DataFrame(feature_rows)\n",
    "print(\"✅ Dataset de características generado:\", df_features.shape)\n",
    "df_features.head()\n"
   ]
  },
  {
   "cell_type": "code",
   "execution_count": 5,
   "id": "6a636f84",
   "metadata": {},
   "outputs": [
    {
     "name": "stdout",
     "output_type": "stream",
     "text": [
      "Características guardadas.\n"
     ]
    }
   ],
   "source": [
    "df_features.to_csv(\"./data/dataset_ready/features.csv\", index=False)\n",
    "print(\"Características guardadas.\")\n"
   ]
  }
 ],
 "metadata": {
  "kernelspec": {
   "display_name": "env",
   "language": "python",
   "name": "python3"
  },
  "language_info": {
   "codemirror_mode": {
    "name": "ipython",
    "version": 3
   },
   "file_extension": ".py",
   "mimetype": "text/x-python",
   "name": "python",
   "nbconvert_exporter": "python",
   "pygments_lexer": "ipython3",
   "version": "3.12.10"
  }
 },
 "nbformat": 4,
 "nbformat_minor": 5
}
