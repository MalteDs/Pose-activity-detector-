{
 "cells": [
  {
   "cell_type": "code",
   "execution_count": 1,
   "id": "2af23a21",
   "metadata": {},
   "outputs": [
    {
     "name": "stdout",
     "output_type": "stream",
     "text": [
      "Dataset limpio cargado: (10817, 136)\n"
     ]
    }
   ],
   "source": [
    "import pandas as pd\n",
    "import numpy as np\n",
    "import matplotlib.pyplot as plt\n",
    "import os\n",
    "\n",
    "# Cargar dataset limpio\n",
    "df = pd.read_csv(\"./data/dataset_ready/movimientos_limpio.csv\")\n",
    "print(\"Dataset limpio cargado:\", df.shape)\n"
   ]
  },
  {
   "cell_type": "code",
   "execution_count": 2,
   "id": "3e971ee7",
   "metadata": {},
   "outputs": [],
   "source": [
    "def calc_angle(a, b, c):\n",
    "    \"\"\"\n",
    "    Calcula el ángulo entre tres puntos: a (proximal), b (vértice), c (distal)\n",
    "    Devuelve el ángulo en grados.\n",
    "    \"\"\"\n",
    "    a = np.array(a)\n",
    "    b = np.array(b)\n",
    "    c = np.array(c)\n",
    "\n",
    "    ba = a - b\n",
    "    bc = c - b\n",
    "\n",
    "    cosine_angle = np.dot(ba, bc) / (np.linalg.norm(ba) * np.linalg.norm(bc) + 1e-6)\n",
    "    angle = np.arccos(np.clip(cosine_angle, -1.0, 1.0))\n",
    "    return np.degrees(angle)\n"
   ]
  },
  {
   "cell_type": "code",
   "execution_count": 3,
   "id": "7b95b140",
   "metadata": {},
   "outputs": [],
   "source": [
    "def extract_features_from_row(row):\n",
    "    features = {}\n",
    "\n",
    "    # Puntos clave\n",
    "    hip_left = [row['x23'], row['y23']]\n",
    "    knee_left = [row['x25'], row['y25']]\n",
    "    ankle_left = [row['x27'], row['y27']]\n",
    "\n",
    "    hip_right = [row['x24'], row['y24']]\n",
    "    knee_right = [row['x26'], row['y26']]\n",
    "    ankle_right = [row['x28'], row['y28']]\n",
    "\n",
    "    shoulder_left = [row['x11'], row['y11']]\n",
    "    shoulder_right = [row['x12'], row['y12']]\n",
    "\n",
    "    # Ángulos\n",
    "    features['angle_knee_left'] = calc_angle(hip_left, knee_left, ankle_left)\n",
    "    features['angle_knee_right'] = calc_angle(hip_right, knee_right, ankle_right)\n",
    "    features['angle_hip_left'] = calc_angle(shoulder_left, hip_left, knee_left)\n",
    "    features['angle_hip_right'] = calc_angle(shoulder_right, hip_right, knee_right)\n",
    "\n",
    "    # Inclinación del tronco (hombros vs caderas)\n",
    "    trunk_vector = np.array(shoulder_right) + np.array(shoulder_left) - np.array(hip_right) - np.array(hip_left)\n",
    "    features['trunk_inclination'] = np.arctan2(trunk_vector[1], trunk_vector[0]) * 180 / np.pi\n",
    "\n",
    "    # Distancias\n",
    "    features['shoulder_dist'] = np.linalg.norm(np.array(shoulder_left) - np.array(shoulder_right))\n",
    "    features['hip_dist'] = np.linalg.norm(np.array(hip_left) - np.array(hip_right))\n",
    "\n",
    "    return features\n"
   ]
  },
  {
   "cell_type": "code",
   "execution_count": 4,
   "id": "604eb8a4",
   "metadata": {},
   "outputs": [
    {
     "name": "stdout",
     "output_type": "stream",
     "text": [
      "✅ Dataset de características generado: (10817, 9)\n"
     ]
    },
    {
     "data": {
      "text/html": [
       "<div>\n",
       "<style scoped>\n",
       "    .dataframe tbody tr th:only-of-type {\n",
       "        vertical-align: middle;\n",
       "    }\n",
       "\n",
       "    .dataframe tbody tr th {\n",
       "        vertical-align: top;\n",
       "    }\n",
       "\n",
       "    .dataframe thead th {\n",
       "        text-align: right;\n",
       "    }\n",
       "</style>\n",
       "<table border=\"1\" class=\"dataframe\">\n",
       "  <thead>\n",
       "    <tr style=\"text-align: right;\">\n",
       "      <th></th>\n",
       "      <th>angle_knee_left</th>\n",
       "      <th>angle_knee_right</th>\n",
       "      <th>angle_hip_left</th>\n",
       "      <th>angle_hip_right</th>\n",
       "      <th>trunk_inclination</th>\n",
       "      <th>shoulder_dist</th>\n",
       "      <th>hip_dist</th>\n",
       "      <th>label</th>\n",
       "      <th>class_name</th>\n",
       "    </tr>\n",
       "  </thead>\n",
       "  <tbody>\n",
       "    <tr>\n",
       "      <th>0</th>\n",
       "      <td>134.529294</td>\n",
       "      <td>120.495096</td>\n",
       "      <td>123.225606</td>\n",
       "      <td>127.059203</td>\n",
       "      <td>73.432487</td>\n",
       "      <td>0.241932</td>\n",
       "      <td>0.144307</td>\n",
       "      <td>0</td>\n",
       "      <td>caminar_adelante</td>\n",
       "    </tr>\n",
       "    <tr>\n",
       "      <th>1</th>\n",
       "      <td>106.719179</td>\n",
       "      <td>176.899803</td>\n",
       "      <td>101.388893</td>\n",
       "      <td>96.131519</td>\n",
       "      <td>73.672063</td>\n",
       "      <td>0.043319</td>\n",
       "      <td>0.015489</td>\n",
       "      <td>0</td>\n",
       "      <td>caminar_adelante</td>\n",
       "    </tr>\n",
       "    <tr>\n",
       "      <th>2</th>\n",
       "      <td>53.025243</td>\n",
       "      <td>98.997645</td>\n",
       "      <td>78.966976</td>\n",
       "      <td>61.914165</td>\n",
       "      <td>75.845424</td>\n",
       "      <td>0.130048</td>\n",
       "      <td>0.062684</td>\n",
       "      <td>0</td>\n",
       "      <td>caminar_adelante</td>\n",
       "    </tr>\n",
       "    <tr>\n",
       "      <th>3</th>\n",
       "      <td>171.144122</td>\n",
       "      <td>172.347420</td>\n",
       "      <td>141.087156</td>\n",
       "      <td>112.152241</td>\n",
       "      <td>80.681858</td>\n",
       "      <td>0.072973</td>\n",
       "      <td>0.042594</td>\n",
       "      <td>0</td>\n",
       "      <td>caminar_adelante</td>\n",
       "    </tr>\n",
       "    <tr>\n",
       "      <th>4</th>\n",
       "      <td>147.561651</td>\n",
       "      <td>174.540970</td>\n",
       "      <td>152.462515</td>\n",
       "      <td>116.798998</td>\n",
       "      <td>83.384920</td>\n",
       "      <td>0.046459</td>\n",
       "      <td>0.016539</td>\n",
       "      <td>0</td>\n",
       "      <td>caminar_adelante</td>\n",
       "    </tr>\n",
       "  </tbody>\n",
       "</table>\n",
       "</div>"
      ],
      "text/plain": [
       "   angle_knee_left  angle_knee_right  angle_hip_left  angle_hip_right  \\\n",
       "0       134.529294        120.495096      123.225606       127.059203   \n",
       "1       106.719179        176.899803      101.388893        96.131519   \n",
       "2        53.025243         98.997645       78.966976        61.914165   \n",
       "3       171.144122        172.347420      141.087156       112.152241   \n",
       "4       147.561651        174.540970      152.462515       116.798998   \n",
       "\n",
       "   trunk_inclination  shoulder_dist  hip_dist  label        class_name  \n",
       "0          73.432487       0.241932  0.144307      0  caminar_adelante  \n",
       "1          73.672063       0.043319  0.015489      0  caminar_adelante  \n",
       "2          75.845424       0.130048  0.062684      0  caminar_adelante  \n",
       "3          80.681858       0.072973  0.042594      0  caminar_adelante  \n",
       "4          83.384920       0.046459  0.016539      0  caminar_adelante  "
      ]
     },
     "execution_count": 4,
     "metadata": {},
     "output_type": "execute_result"
    }
   ],
   "source": [
    "# Aplicar a cada fila del dataset\n",
    "feature_rows = []\n",
    "for idx, row in df.iterrows():\n",
    "    feats = extract_features_from_row(row)\n",
    "    feats['label'] = row['label']\n",
    "    feats['class_name'] = row['class_name']\n",
    "    feature_rows.append(feats)\n",
    "\n",
    "df_features = pd.DataFrame(feature_rows)\n",
    "print(\"✅ Dataset de características generado:\", df_features.shape)\n",
    "df_features.head()\n"
   ]
  },
  {
   "cell_type": "code",
   "execution_count": 5,
   "id": "6a636f84",
   "metadata": {},
   "outputs": [
    {
     "name": "stdout",
     "output_type": "stream",
     "text": [
      "Características guardadas.\n"
     ]
    }
   ],
   "source": [
    "df_features.to_csv(\"./data/dataset_ready/features.csv\", index=False)\n",
    "print(\"Características guardadas.\")\n"
   ]
  }
 ],
 "metadata": {
  "kernelspec": {
   "display_name": "env",
   "language": "python",
   "name": "python3"
  },
  "language_info": {
   "codemirror_mode": {
    "name": "ipython",
    "version": 3
   },
   "file_extension": ".py",
   "mimetype": "text/x-python",
   "name": "python",
   "nbconvert_exporter": "python",
   "pygments_lexer": "ipython3",
   "version": "3.12.10"
  }
 },
 "nbformat": 4,
 "nbformat_minor": 5
}
